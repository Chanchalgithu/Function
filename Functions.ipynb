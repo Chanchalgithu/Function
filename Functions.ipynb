{
  "nbformat": 4,
  "nbformat_minor": 0,
  "metadata": {
    "colab": {
      "provenance": []
    },
    "kernelspec": {
      "name": "python3",
      "display_name": "Python 3"
    },
    "language_info": {
      "name": "python"
    }
  },
  "cells": [
    {
      "cell_type": "code",
      "execution_count": null,
      "metadata": {
        "id": "zK4cW9p3_2Jg"
      },
      "outputs": [],
      "source": [
        "Functions"
      ]
    },
    {
      "cell_type": "markdown",
      "source": [
        "1. What is functions ?\n",
        "- ghmgftsrrrrrxfydtbuyhmnjhdcytsrtydgvnkloljlm;llkilzdZbbbn;kmnkjb,m;;\n",
        "/\n",
        "mlkbkhgcbnn ,j,hnm, ;,/lpmmnvgfzn xfdgmbcgj hk,nfrsd"
      ],
      "metadata": {
        "id": "N2f86JnzCgoH"
      }
    },
    {
      "cell_type": "code",
      "source": [],
      "metadata": {
        "id": "xbu6w-THCX7-"
      },
      "execution_count": null,
      "outputs": []
    }
  ]
}